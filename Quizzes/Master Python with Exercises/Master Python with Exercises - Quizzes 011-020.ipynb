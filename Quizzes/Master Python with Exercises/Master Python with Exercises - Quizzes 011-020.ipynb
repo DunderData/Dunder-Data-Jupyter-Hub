{
 "cells": [
  {
   "cell_type": "markdown",
   "metadata": {},
   "source": [
    "# Master Python with Exercises - Quizzes 11-20\n",
    "\n",
    "Challenge your python data analysis skills by taking the quizzes below. The quizzes will be tagged with **#MasterPython** on social media to help identify them.\n",
    "\n",
    "### Become an Expert\n",
    "\n",
    "If you are looking for a single, comprehensive path to become an expert at the python data science ecosystem, check out the following books I wrote.\n",
    "\n",
    "* [Master Python with Exercises][1]\n",
    "* [Master Data Analysis with Python][2]\n",
    "* [Master Data Visualization with Python][3]\n",
    "* [Master Machine Learning with Python][4]\n",
    "\n",
    "### Get started for free\n",
    "\n",
    "Sample my material by taking my [free Intro to Pandas class][5].\n",
    "\n",
    "[1]: https://www.dunderdata.com/exercise-python\n",
    "[2]: https://www.dunderdata.com/master-data-analysis-with-python\n",
    "[3]: https://www.dunderdata.com/master-data-visualization-with-python\n",
    "[4]: https://www.dunderdata.com/master-machine-learning-with-python\n",
    "[5]: https://www.dunderdata.com"
   ]
  },
  {
   "cell_type": "markdown",
   "metadata": {},
   "source": [
    "## Master Python with Exercises - Quiz #11\n",
    "\n",
    "Determine whether each of the following three statements is true, false, or produces an error.\n",
    "\n",
    "```python\n",
    "A = [1, 2, 3]\n",
    "min(a) == min(1, 2, 3)\n",
    "max(a) == max(1, 2, 3)\n",
    "sum(a) == sum(1, 2, 3)\n",
    "\n",
    "True, True, True\n",
    "False, False, False\n",
    "True, True, Error\n",
    "Error, Error, Error\n",
    "```"
   ]
  },
  {
   "cell_type": "code",
   "execution_count": null,
   "metadata": {},
   "outputs": [],
   "source": []
  },
  {
   "cell_type": "markdown",
   "metadata": {},
   "source": [
    "## Master Python with Exercises - Quiz #12\n",
    "\n",
    "Everything in python is an object, so the following is legal. True or False?\n",
    "\n",
    "```python\n",
    "Sum_function = sum\n",
    "```"
   ]
  },
  {
   "cell_type": "code",
   "execution_count": null,
   "metadata": {},
   "outputs": [],
   "source": []
  },
  {
   "cell_type": "markdown",
   "metadata": {},
   "source": [
    "## Master Python with Exercises - Quiz #13\n",
    "\n",
    "What is the result of the following?\n",
    "\n",
    "```python\n",
    "Sum_function = sum\n",
    "sum_function([5, 10])\n",
    "\n",
    "Error\n",
    "15\n",
    "```"
   ]
  },
  {
   "cell_type": "code",
   "execution_count": null,
   "metadata": {},
   "outputs": [],
   "source": []
  },
  {
   "cell_type": "markdown",
   "metadata": {},
   "source": [
    "## Master Python with Exercises - Quiz #14\n",
    "\n",
    "What is the result of the following?\n",
    "\n",
    "```python\n",
    "Sum_function = sum\n",
    "Sum_function is sum\n",
    "\n",
    "True\n",
    "False\n",
    "Error\n",
    "2\n",
    "```"
   ]
  },
  {
   "cell_type": "code",
   "execution_count": null,
   "metadata": {},
   "outputs": [],
   "source": []
  },
  {
   "cell_type": "markdown",
   "metadata": {},
   "source": [
    "## Master Python with Exercises - Quiz #15\n",
    "\n",
    "The range function is a function\n",
    "\n",
    "```python\n",
    "True\n",
    "False\n",
    "```"
   ]
  },
  {
   "cell_type": "code",
   "execution_count": null,
   "metadata": {},
   "outputs": [],
   "source": []
  },
  {
   "cell_type": "markdown",
   "metadata": {},
   "source": [
    "## Master Python with Exercises - Quiz #16\n",
    "\n",
    "The function signature for the built-in sum function follows: \n",
    "\n",
    "```python\n",
    "sum(iterable, start=0, /)\n",
    "```\n",
    "\n",
    "Which of the following calls to the sum function is legal?\n",
    "\n",
    "```python\n",
    "sum([1, 2, 3], start=10)\n",
    "sum(iterable=[1,2,3])\n",
    "sum(iterable=[1, 2, 3], start=10)\n",
    "sum([1, 2, 3], 10)\n",
    "```"
   ]
  },
  {
   "cell_type": "code",
   "execution_count": null,
   "metadata": {},
   "outputs": [],
   "source": []
  },
  {
   "cell_type": "markdown",
   "metadata": {},
   "source": [
    "## Master Python with Exercises - Quiz #17\n",
    "\n",
    "What is the following expression equal to?\n",
    "\n",
    "```python\n",
    "A = [1, 2, 3]\n",
    "sum(a, sum(a, sum(a)))\n",
    "```"
   ]
  },
  {
   "cell_type": "code",
   "execution_count": null,
   "metadata": {},
   "outputs": [],
   "source": []
  },
  {
   "cell_type": "markdown",
   "metadata": {},
   "source": [
    "## Master Python with Exercises - Quiz #18\n",
    "\n",
    "True or False\n",
    "\n",
    "```python\n",
    "-5 ** 2 == abs(-5) ** 2\n",
    "```"
   ]
  },
  {
   "cell_type": "code",
   "execution_count": null,
   "metadata": {},
   "outputs": [],
   "source": []
  },
  {
   "cell_type": "markdown",
   "metadata": {},
   "source": [
    "## Master Python with Exercises - Quiz #19\n",
    "\n",
    "How would you find the list with the largest sum\n",
    "\n",
    "```python\n",
    "a = [3, 99, 120]\n",
    "b = [4, 10]\n",
    "c = [-44, -99, 123]\n",
    "d = [9, 4, 22, 144, 55, -999]\n",
    "```"
   ]
  },
  {
   "cell_type": "code",
   "execution_count": null,
   "metadata": {},
   "outputs": [],
   "source": []
  }
 ],
 "metadata": {
  "kernelspec": {
   "display_name": "Python 3",
   "language": "python",
   "name": "python3"
  },
  "language_info": {
   "codemirror_mode": {
    "name": "ipython",
    "version": 3
   },
   "file_extension": ".py",
   "mimetype": "text/x-python",
   "name": "python",
   "nbconvert_exporter": "python",
   "pygments_lexer": "ipython3",
   "version": "3.7.6"
  }
 },
 "nbformat": 4,
 "nbformat_minor": 4
}
