{
 "cells": [
  {
   "cell_type": "markdown",
   "metadata": {},
   "source": [
    "# Master Python with Exercises - Quizzes 1-10\n",
    "\n",
    "Challenge your python data analysis skills by taking the quizzes below. The quizzes will be tagged with **#MasterPython** on social media to help identify them.\n",
    "\n",
    "### Become an Expert\n",
    "\n",
    "If you are looking for a single, comprehensive path to become an expert at the python data science ecosystem, check out the following books I wrote.\n",
    "\n",
    "* [Master Python with Exercises][1]\n",
    "* [Master Data Analysis with Python][2]\n",
    "* [Master Data Visualization with Python][3]\n",
    "* [Master Machine Learning with Python][4]\n",
    "\n",
    "### Get started for free\n",
    "\n",
    "Sample my material by taking my [free Intro to Pandas class][5].\n",
    "\n",
    "[1]: https://www.dunderdata.com/exercise-python\n",
    "[2]: https://www.dunderdata.com/master-data-analysis-with-python\n",
    "[3]: https://www.dunderdata.com/master-data-visualization-with-python\n",
    "[4]: https://www.dunderdata.com/master-machine-learning-with-python\n",
    "[5]: https://www.dunderdata.com"
   ]
  },
  {
   "cell_type": "markdown",
   "metadata": {},
   "source": [
    "## Master Python with Exercises - Quiz #1\n",
    "\n",
    "#### January 28, 2020 - difficulty (2/4)\n",
    "\n",
    "Take a look at the following two function definitions.\n",
    "\n",
    "```python\n",
    "def func1():\n",
    "    return 5\n",
    "\n",
    "def func2():\n",
    "    return(5)\n",
    "```\n",
    "\n",
    "In `func1`, `return` is not a function, while in `func2` it is a function. True or False?"
   ]
  },
  {
   "cell_type": "code",
   "execution_count": null,
   "metadata": {},
   "outputs": [],
   "source": []
  },
  {
   "cell_type": "markdown",
   "metadata": {},
   "source": [
    "## Master Python with Exercises - Quiz #2\n",
    "\n",
    "#### January 29, 2020 - difficulty (2/4)\n",
    "\n",
    "Take a look at the following function definition.\n",
    "\n",
    "```python\n",
    "def func():\n",
    "    return()\n",
    "```\n",
    "\n",
    "What is the result of executing `func()`?\n",
    "\n",
    "a) `None`  \n",
    "b) An error  \n",
    "c) Tuple  \n",
    "d) 0"
   ]
  },
  {
   "cell_type": "code",
   "execution_count": null,
   "metadata": {},
   "outputs": [],
   "source": []
  },
  {
   "cell_type": "markdown",
   "metadata": {},
   "source": [
    "## Master Python with Exercises - Quiz #3\n",
    "\n",
    "#### January 30, 2020 - difficulty (2/4)\n",
    "\n",
    "Given the following function definition, which function call is invalid?\n",
    "\n",
    "```python\n",
    "def func(a, b=5):\n",
    "    pass\n",
    "```\n",
    "\n",
    "a) `func(a=3, 10)`  \n",
    "b) `func(3, b=10)`  \n",
    "c) `func(3)`  \n",
    "d) `func(b=’adf’, a=10)`  \n"
   ]
  },
  {
   "cell_type": "code",
   "execution_count": null,
   "metadata": {},
   "outputs": [],
   "source": []
  },
  {
   "cell_type": "markdown",
   "metadata": {},
   "source": [
    "## Master Python with Exercises - Quiz #4\n",
    "\n",
    "#### February 3, 2020 - difficulty (2/4)\n",
    "\n",
    "Is the range function a function?\n",
    "\n",
    "a) True  \n",
    "b) False\n"
   ]
  },
  {
   "cell_type": "code",
   "execution_count": null,
   "metadata": {},
   "outputs": [],
   "source": []
  },
  {
   "cell_type": "markdown",
   "metadata": {},
   "source": [
    "## Master Python with Exercises - Quiz #5\n",
    "\n",
    "In func1, return is a function, in func2, return is not a function.\n",
    "\n",
    "True\n",
    "False\n",
    "\n",
    "Difficulty (2/4)\n",
    "\n",
    "    Def func1():\n",
    "        return(5)\n",
    "\n",
    "    Def func2():\n",
    "        Return 5"
   ]
  },
  {
   "cell_type": "code",
   "execution_count": null,
   "metadata": {},
   "outputs": [],
   "source": []
  },
  {
   "cell_type": "markdown",
   "metadata": {},
   "source": [
    "## Master Python with Exercises - Quiz #6\n",
    "\n",
    "It is possible to write a valid function defined by the def keyword with one line of code?\n",
    "\n",
    "```\n",
    "True\n",
    "False\n",
    "```"
   ]
  },
  {
   "cell_type": "code",
   "execution_count": null,
   "metadata": {},
   "outputs": [],
   "source": []
  },
  {
   "cell_type": "markdown",
   "metadata": {},
   "source": [
    "## Master Python with Exercises - Quiz # 7\n",
    "\n",
    "How many logical lines of python code is this?\n",
    "\n",
    "a.method() \\\n",
    "  .method() \\\n",
    "  .method() \\"
   ]
  },
  {
   "cell_type": "code",
   "execution_count": null,
   "metadata": {},
   "outputs": [],
   "source": []
  },
  {
   "cell_type": "markdown",
   "metadata": {},
   "source": [
    "## Master Python with Exercises - Quiz #8\n",
    "\n",
    "How many logical lines of python code is this?\n",
    "\n",
    "```python\n",
    "(a.method()\n",
    "   .method()\n",
    "   .method())\n",
    "```"
   ]
  },
  {
   "cell_type": "code",
   "execution_count": null,
   "metadata": {},
   "outputs": [],
   "source": []
  },
  {
   "cell_type": "markdown",
   "metadata": {},
   "source": [
    "## Master Python with Exercises - Quiz #9\n",
    "\n",
    "Given the following function signature, which function call is invalid?\n",
    "\n",
    "```python\n",
    "Def func(a, b=5)\n",
    "\n",
    "func(a=3, 10)\n",
    "func(3, b=10)\n",
    "func(3)\n",
    "func(b=’adf’, a=10)\n",
    "```"
   ]
  },
  {
   "cell_type": "code",
   "execution_count": null,
   "metadata": {},
   "outputs": [],
   "source": []
  },
  {
   "cell_type": "markdown",
   "metadata": {},
   "source": [
    "## Master Python with Exercises - Quiz #10\n",
    "\n",
    "Given the following function signature, which function call is valid?\n",
    "\n",
    "``` python\n",
    "Def func(a, /, *, b)\n",
    "\n",
    "func(a=4, b=3)\n",
    "func(4, b=3)\n",
    "func(4, 3)\n",
    "func(a=4, 3)\n",
    "```"
   ]
  },
  {
   "cell_type": "code",
   "execution_count": null,
   "metadata": {},
   "outputs": [],
   "source": []
  }
 ],
 "metadata": {
  "kernelspec": {
   "display_name": "Python 3",
   "language": "python",
   "name": "python3"
  },
  "language_info": {
   "codemirror_mode": {
    "name": "ipython",
    "version": 3
   },
   "file_extension": ".py",
   "mimetype": "text/x-python",
   "name": "python",
   "nbconvert_exporter": "python",
   "pygments_lexer": "ipython3",
   "version": "3.7.6"
  }
 },
 "nbformat": 4,
 "nbformat_minor": 4
}
